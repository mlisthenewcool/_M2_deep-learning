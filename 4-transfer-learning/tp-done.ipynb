{
  "nbformat": 4,
  "nbformat_minor": 0,
  "metadata": {
    "colab": {
      "name": "DL_4_DEBERNARDI.ipynb",
      "provenance": [],
      "collapsed_sections": []
    },
    "kernelspec": {
      "name": "python3",
      "display_name": "Python 3"
    },
    "accelerator": "GPU"
  },
  "cells": [
    {
      "cell_type": "markdown",
      "metadata": {
        "id": "qOMP0WoFBA5f",
        "colab_type": "text"
      },
      "source": [
        "# Examen Deep Learning\n",
        "\n",
        "Examen de 3 heures, sur machine, tout documents autorisés. Pour l'anonymisation de votre rendu, veuillez suivre les consignes : \n",
        "\n",
        "- Choisissez un numéro aléatoire à 6 chiffres, le plus aléatoire possible..\n",
        "- Ecrivez ce numéro sur une feuille, ainsi que votre nom et numéro d'étudiant \n",
        "- Pliez cette feuille en 4, et donnez la à la fin de l'examen au moment d'émarger  \n",
        "- Zippez votre fichier notebook, et nommez l'archive avec votre numéro aléatoire \n",
        "- Envoyez l'archive via la page : http://stephane.ayache.perso.luminy.univ-amu.fr/examdeep/upload/upload.php\n",
        "\n",
        "<hr/>\n",
        "\n",
        "Un musée spécialisé en peintures représentant des animaux de la savane a malheureusement perdu son fichier d'inventaire qui regroupait des informations précieuses sur les 2000 oeuvres du musée ! Fort heureusement, l'informaticien toujours prévoyant avait conservé une copie des 2000 photos des oeuvres, et il vient juste de suivre une formation de Deep Learning ...\n",
        "\n",
        "<center>\n",
        "<img src=\" http://stephane.ayache.perso.luminy.univ-amu.fr/examdeep/0.jpg\" width=\"90px\" />\n",
        "<img src=\" http://stephane.ayache.perso.luminy.univ-amu.fr/examdeep/1.jpg\" width=\"90px\" />\n",
        "<img src=\" http://stephane.ayache.perso.luminy.univ-amu.fr/examdeep/2.jpg\" width=\"90px\" />\n",
        "<img src=\" http://stephane.ayache.perso.luminy.univ-amu.fr/examdeep/3.jpg\" width=\"90px\" />\n",
        "<img src=\" http://stephane.ayache.perso.luminy.univ-amu.fr/examdeep/4.jpg\" width=\"90px\" />\n",
        "<img src=\" http://stephane.ayache.perso.luminy.univ-amu.fr/examdeep/5.jpg\" width=\"90px\" />\n",
        "<img src=\" http://stephane.ayache.perso.luminy.univ-amu.fr/examdeep/6.jpg\" width=\"90px\" />\n",
        "<img src=\" http://stephane.ayache.perso.luminy.univ-amu.fr/examdeep/7.jpg\" width=\"90px\" />\n",
        "<img src=\" http://stephane.ayache.perso.luminy.univ-amu.fr/examdeep/8.jpg\" width=\"90px\" />\n",
        "<img src=\" http://stephane.ayache.perso.luminy.univ-amu.fr/examdeep/9.jpg\" width=\"90px\" />\n",
        "</center>\n",
        "\n",
        "Cet examen porte sur la résolution d'une tâche de classification d'images sur un jeu de données faiblement annoté. Plusieurs solutions sont envisagées  consistant Ã  tirer parti d'annotations de classes équivalentes sur un autre dataset entièrement étiquetté (imagenet). Les deux jeux de données contiennent 2000 images réparties (également) en quatre classes (d'animaux : zèbres, gorilles, léopards, tigres). 1500 images sont utilisées pour l'entrainement, 500 pour l'évaluation. Seul le jeu de données A (imagenet) est complètement annoté, le dataset B (les photos des oeuvres du musée) ne contient que très peu d'annotations.\n",
        "\n",
        "La partie 1 consiste à entrainer et évaluer les performances d'un modèle CNN fourni sur les deux datasets d'images. Les parties 2 et 3 consistent à mettre en oeuvre deux solutions par *adaptation de domaines* pour tenter d'améliorer les performances de classification sur le dataset faiblement annoté. Vous pouvez consacrer environ une heure à chaque partie, notées également.\n"
      ]
    },
    {
      "cell_type": "code",
      "metadata": {
        "id": "fbvBt_nnAkmy",
        "colab_type": "code",
        "colab": {
          "base_uri": "https://localhost:8080/",
          "height": 34
        },
        "outputId": "1be19777-1a8c-45e7-ed70-f22c13b0987a"
      },
      "source": [
        "try:\n",
        "    %tensorflow_version 2.x\n",
        "    import tensorflow as tf\n",
        "    from tensorflow.keras import layers\n",
        "    import numpy as np\n",
        "    import matplotlib.pyplot as plt\n",
        "except Exception:\n",
        "    print('Tensorflow version 2 not available')"
      ],
      "execution_count": 2,
      "outputs": [
        {
          "output_type": "stream",
          "text": [
            "TensorFlow 2.x selected.\n"
          ],
          "name": "stdout"
        }
      ]
    },
    {
      "cell_type": "markdown",
      "metadata": {
        "id": "JhEFJi2Jm-AU",
        "colab_type": "text"
      },
      "source": [
        "## Téléchargement des données"
      ]
    },
    {
      "cell_type": "code",
      "metadata": {
        "id": "xOoNnEmRXA0O",
        "colab_type": "code",
        "colab": {
          "base_uri": "https://localhost:8080/",
          "height": 1000
        },
        "outputId": "79c6f3c3-d82f-4d47-b592-6db2b10ba095"
      },
      "source": [
        "!wget http://stephane.ayache.perso.luminy.univ-amu.fr/examdeep/imagenetXtrain.npy\n",
        "!wget http://stephane.ayache.perso.luminy.univ-amu.fr/examdeep/imagenetYtrain.npy\n",
        "!wget http://stephane.ayache.perso.luminy.univ-amu.fr/examdeep/imagenetXtest.npy\n",
        "!wget http://stephane.ayache.perso.luminy.univ-amu.fr/examdeep/imagenetYtest.npy\n",
        "  \n",
        "!wget http://stephane.ayache.perso.luminy.univ-amu.fr/examdeep/awaXtrain.npy\n",
        "!wget http://stephane.ayache.perso.luminy.univ-amu.fr/examdeep/awaYtrain.npy\n",
        "!wget http://stephane.ayache.perso.luminy.univ-amu.fr/examdeep/awaXtest.npy\n",
        "!wget http://stephane.ayache.perso.luminy.univ-amu.fr/examdeep/awaYtest.npy  "
      ],
      "execution_count": 3,
      "outputs": [
        {
          "output_type": "stream",
          "text": [
            "--2019-11-04 20:18:01--  http://stephane.ayache.perso.luminy.univ-amu.fr/examdeep/imagenetXtrain.npy\n",
            "Resolving stephane.ayache.perso.luminy.univ-amu.fr (stephane.ayache.perso.luminy.univ-amu.fr)... 139.124.69.89\n",
            "Connecting to stephane.ayache.perso.luminy.univ-amu.fr (stephane.ayache.perso.luminy.univ-amu.fr)|139.124.69.89|:80... connected.\n",
            "HTTP request sent, awaiting response... 200 OK\n",
            "Length: 18432128 (18M) [text/plain]\n",
            "Saving to: ‘imagenetXtrain.npy’\n",
            "\n",
            "imagenetXtrain.npy  100%[===================>]  17.58M  13.2MB/s    in 1.3s    \n",
            "\n",
            "2019-11-04 20:18:03 (13.2 MB/s) - ‘imagenetXtrain.npy’ saved [18432128/18432128]\n",
            "\n",
            "--2019-11-04 20:18:04--  http://stephane.ayache.perso.luminy.univ-amu.fr/examdeep/imagenetYtrain.npy\n",
            "Resolving stephane.ayache.perso.luminy.univ-amu.fr (stephane.ayache.perso.luminy.univ-amu.fr)... 139.124.69.89\n",
            "Connecting to stephane.ayache.perso.luminy.univ-amu.fr (stephane.ayache.perso.luminy.univ-amu.fr)|139.124.69.89|:80... connected.\n",
            "HTTP request sent, awaiting response... 200 OK\n",
            "Length: 12128 (12K) [text/plain]\n",
            "Saving to: ‘imagenetYtrain.npy’\n",
            "\n",
            "imagenetYtrain.npy  100%[===================>]  11.84K  --.-KB/s    in 0s      \n",
            "\n",
            "2019-11-04 20:18:04 (314 MB/s) - ‘imagenetYtrain.npy’ saved [12128/12128]\n",
            "\n",
            "--2019-11-04 20:18:05--  http://stephane.ayache.perso.luminy.univ-amu.fr/examdeep/imagenetXtest.npy\n",
            "Resolving stephane.ayache.perso.luminy.univ-amu.fr (stephane.ayache.perso.luminy.univ-amu.fr)... 139.124.69.89\n",
            "Connecting to stephane.ayache.perso.luminy.univ-amu.fr (stephane.ayache.perso.luminy.univ-amu.fr)|139.124.69.89|:80... connected.\n",
            "HTTP request sent, awaiting response... 200 OK\n",
            "Length: 6144128 (5.9M) [text/plain]\n",
            "Saving to: ‘imagenetXtest.npy’\n",
            "\n",
            "imagenetXtest.npy   100%[===================>]   5.86M  6.51MB/s    in 0.9s    \n",
            "\n",
            "2019-11-04 20:18:06 (6.51 MB/s) - ‘imagenetXtest.npy’ saved [6144128/6144128]\n",
            "\n",
            "--2019-11-04 20:18:09--  http://stephane.ayache.perso.luminy.univ-amu.fr/examdeep/imagenetYtest.npy\n",
            "Resolving stephane.ayache.perso.luminy.univ-amu.fr (stephane.ayache.perso.luminy.univ-amu.fr)... 139.124.69.89\n",
            "Connecting to stephane.ayache.perso.luminy.univ-amu.fr (stephane.ayache.perso.luminy.univ-amu.fr)|139.124.69.89|:80... connected.\n",
            "HTTP request sent, awaiting response... 200 OK\n",
            "Length: 4128 (4.0K) [text/plain]\n",
            "Saving to: ‘imagenetYtest.npy’\n",
            "\n",
            "imagenetYtest.npy   100%[===================>]   4.03K  --.-KB/s    in 0s      \n",
            "\n",
            "2019-11-04 20:18:09 (580 MB/s) - ‘imagenetYtest.npy’ saved [4128/4128]\n",
            "\n",
            "--2019-11-04 20:18:11--  http://stephane.ayache.perso.luminy.univ-amu.fr/examdeep/awaXtrain.npy\n",
            "Resolving stephane.ayache.perso.luminy.univ-amu.fr (stephane.ayache.perso.luminy.univ-amu.fr)... 139.124.69.89\n",
            "Connecting to stephane.ayache.perso.luminy.univ-amu.fr (stephane.ayache.perso.luminy.univ-amu.fr)|139.124.69.89|:80... connected.\n",
            "HTTP request sent, awaiting response... 200 OK\n",
            "Length: 18432128 (18M) [text/plain]\n",
            "Saving to: ‘awaXtrain.npy’\n",
            "\n",
            "awaXtrain.npy       100%[===================>]  17.58M  12.6MB/s    in 1.4s    \n",
            "\n",
            "2019-11-04 20:18:12 (12.6 MB/s) - ‘awaXtrain.npy’ saved [18432128/18432128]\n",
            "\n",
            "--2019-11-04 20:18:14--  http://stephane.ayache.perso.luminy.univ-amu.fr/examdeep/awaYtrain.npy\n",
            "Resolving stephane.ayache.perso.luminy.univ-amu.fr (stephane.ayache.perso.luminy.univ-amu.fr)... 139.124.69.89\n",
            "Connecting to stephane.ayache.perso.luminy.univ-amu.fr (stephane.ayache.perso.luminy.univ-amu.fr)|139.124.69.89|:80... connected.\n",
            "HTTP request sent, awaiting response... 200 OK\n",
            "Length: 528 [text/plain]\n",
            "Saving to: ‘awaYtrain.npy’\n",
            "\n",
            "awaYtrain.npy       100%[===================>]     528  --.-KB/s    in 0s      \n",
            "\n",
            "2019-11-04 20:18:14 (123 MB/s) - ‘awaYtrain.npy’ saved [528/528]\n",
            "\n",
            "--2019-11-04 20:18:17--  http://stephane.ayache.perso.luminy.univ-amu.fr/examdeep/awaXtest.npy\n",
            "Resolving stephane.ayache.perso.luminy.univ-amu.fr (stephane.ayache.perso.luminy.univ-amu.fr)... 139.124.69.89\n",
            "Connecting to stephane.ayache.perso.luminy.univ-amu.fr (stephane.ayache.perso.luminy.univ-amu.fr)|139.124.69.89|:80... connected.\n",
            "HTTP request sent, awaiting response... 200 OK\n",
            "Length: 6144128 (5.9M) [text/plain]\n",
            "Saving to: ‘awaXtest.npy’\n",
            "\n",
            "awaXtest.npy        100%[===================>]   5.86M  6.55MB/s    in 0.9s    \n",
            "\n",
            "2019-11-04 20:18:18 (6.55 MB/s) - ‘awaXtest.npy’ saved [6144128/6144128]\n",
            "\n",
            "--2019-11-04 20:18:19--  http://stephane.ayache.perso.luminy.univ-amu.fr/examdeep/awaYtest.npy\n",
            "Resolving stephane.ayache.perso.luminy.univ-amu.fr (stephane.ayache.perso.luminy.univ-amu.fr)... 139.124.69.89\n",
            "Connecting to stephane.ayache.perso.luminy.univ-amu.fr (stephane.ayache.perso.luminy.univ-amu.fr)|139.124.69.89|:80... connected.\n",
            "HTTP request sent, awaiting response... 200 OK\n",
            "Length: 4128 (4.0K) [text/plain]\n",
            "Saving to: ‘awaYtest.npy’\n",
            "\n",
            "awaYtest.npy        100%[===================>]   4.03K  --.-KB/s    in 0s      \n",
            "\n",
            "2019-11-04 20:18:19 (372 MB/s) - ‘awaYtest.npy’ saved [4128/4128]\n",
            "\n"
          ],
          "name": "stdout"
        }
      ]
    },
    {
      "cell_type": "markdown",
      "metadata": {
        "id": "JELpwwuImeSc",
        "colab_type": "text"
      },
      "source": [
        "### Chargement des données"
      ]
    },
    {
      "cell_type": "code",
      "metadata": {
        "id": "hHDrGe_IYIUm",
        "colab_type": "code",
        "colab": {
          "base_uri": "https://localhost:8080/",
          "height": 85
        },
        "outputId": "cce39f94-ecd3-49eb-f149-c7cce8ba5705"
      },
      "source": [
        "def get_data(path_x, path_y, n_features):\n",
        "    x = np.load(path_x) / 255.\n",
        "    y = tf.keras.utils.to_categorical(np.load(path_y), n_features)\n",
        "    return x, y\n",
        "\n",
        "# ---\n",
        "# load our data\n",
        "# ---\n",
        "path = './'\n",
        "n_features = 4\n",
        "\n",
        "x_trainA, y_trainA = get_data(f'{path}imagenetXtrain.npy',\n",
        "                              f'{path}imagenetYtrain.npy',\n",
        "                              n_features) \n",
        "\n",
        "x_testA, y_testA = get_data(f'{path}imagenetXtest.npy',\n",
        "                            f'{path}imagenetYtest.npy',\n",
        "                            n_features)\n",
        "\n",
        "x_trainB, y_trainB = get_data(f'{path}awaXtrain.npy',\n",
        "                              f'{path}awaYtrain.npy',\n",
        "                              n_features)\n",
        "\n",
        "x_testB, y_testB = get_data(f'{path}awaXtest.npy',\n",
        "                            f'{path}awaYtest.npy',\n",
        "                            n_features)\n",
        "\n",
        "print('x_trainA.shape:', x_trainA.shape, 'y_trainA.shape:', y_trainA.shape)\n",
        "print('x_trainB.shape:', x_trainB.shape, 'y_trainB.shape:', y_trainB.shape)\n",
        "print('x_testA.shape:', x_testA.shape, 'y_testA.shape:', y_testA.shape)\n",
        "print('x_testB.shape:', x_testB.shape, 'y_testB.shape:', y_testB.shape)"
      ],
      "execution_count": 4,
      "outputs": [
        {
          "output_type": "stream",
          "text": [
            "x_trainA.shape: (1500, 64, 64, 3) y_trainA.shape: (1500, 4)\n",
            "x_trainB.shape: (1500, 64, 64, 3) y_trainB.shape: (50, 4)\n",
            "x_testA.shape: (500, 64, 64, 3) y_testA.shape: (500, 4)\n",
            "x_testB.shape: (500, 64, 64, 3) y_testB.shape: (500, 4)\n"
          ],
          "name": "stdout"
        }
      ]
    },
    {
      "cell_type": "markdown",
      "metadata": {
        "id": "nwLsluNtYHkG",
        "colab_type": "text"
      },
      "source": [
        "Les deux jeux de données contiennent 2000 images, de 64x64x3 pixels, réparties en quatre classes. 1500 images sont utilisées pour l'entrainement, 500 pour l'évaluation. Seul le jeu de données A est complètement annoté, le jeu de données B ne contient que très peu d'annotations, correspondant aux 50 premiers exemples de x_trainB."
      ]
    },
    {
      "cell_type": "markdown",
      "metadata": {
        "id": "-NRp44rQagA-",
        "colab_type": "text"
      },
      "source": [
        "## Partie 1 : Modèle convolutionnel pour la classification d'images\n",
        "\n",
        "On définit ci-dessous une architecture convolutionnelle simple, à ne pas modifier. Cette partie vise à évaluer la performance d'un modèle CNN sur les deux dataset A et B. Entrainez ce modèle des différentes manières possibles et reportez les performances obtenues dans le tableau situé en fin de cette partie. A chaque nouvel apprentissage, utilisez les configurations suivantes : \n",
        "- 30 epochs\n",
        "- Taille des minibatchs à 64\n",
        "- 10% des données pour validation\n",
        "\n",
        "Tracez les courbes d'apprentissage, et commentez vos résultats."
      ]
    },
    {
      "cell_type": "code",
      "metadata": {
        "id": "IhT1lW7GwkdP",
        "colab_type": "code",
        "colab": {}
      },
      "source": [
        "IMG_ROWS, IMG_COLS, IMG_CHANNELS = 64, 64, 3\n",
        "IMG_SHAPE = (IMG_ROWS, IMG_COLS, IMG_CHANNELS)\n",
        "\n",
        "N_EPOCHS = 30\n",
        "BATCH_SIZE = 64\n",
        "VAL_SPLIT = 0.1\n",
        "\n",
        "OPTIMIZER = tf.optimizers.Adam(1e-4)\n",
        "\n",
        "KNOWN_IMG = y_trainB.shape[0]"
      ],
      "execution_count": 0,
      "outputs": []
    },
    {
      "cell_type": "code",
      "metadata": {
        "id": "aVzDIs5-a_jI",
        "colab_type": "code",
        "colab": {}
      },
      "source": [
        "# Couches d'apprentissage de représentations par convolutions\n",
        "# Renvoie un vecteur de (4096) pour une image d'entrée (64, 64, 3)\n",
        "def conv_model(img_shape):\n",
        "    return tf.keras.Sequential([\n",
        "        # block 1\n",
        "        layers.Conv2D(64, kernel_size=(3, 3), strides=(1, 1), padding='same',\n",
        "                    input_shape=img_shape),\n",
        "        layers.BatchNormalization(axis=-1),\n",
        "        layers.Activation('relu'),\n",
        "\n",
        "        # block 2\n",
        "        layers.Conv2D(128, kernel_size=(3, 3), strides=(1, 1), padding='same'),\n",
        "        layers.BatchNormalization(axis=-1),\n",
        "        layers.Activation('relu'),\n",
        "\n",
        "        # block 3\n",
        "        layers.Conv2D(128, kernel_size=(3, 3), strides=(1, 1), padding='same'),\n",
        "        layers.BatchNormalization(axis=-1),\n",
        "        layers.Activation('relu'),\n",
        "        layers.AveragePooling2D((4, 4)),\n",
        "\n",
        "        # block 4\n",
        "        layers.Conv2D(256, kernel_size=(3, 3), strides=(2, 2), padding='same'),\n",
        "        layers.BatchNormalization(axis=-1),\n",
        "        layers.Conv2D(256, kernel_size=(3, 3), strides=(1, 1), padding='same'),\n",
        "        layers.AveragePooling2D((2, 2)),\n",
        "        layers.Activation('relu'),\n",
        "        layers.Dropout(0.2),\n",
        "        layers.Flatten()\n",
        "    ])\n",
        "\n",
        "# modèle de classification\n",
        "# prend en entrée un vecteur (4096) et prédit un vecteur (4)\n",
        "def classif_model(input_shape, n_features):\n",
        "    return tf.keras.Sequential([\n",
        "        layers.Dense(1024, activation='relu', input_shape=input_shape),\n",
        "        layers.Dropout(0.5),\n",
        "        layers.Dense(512, activation='relu'),\n",
        "        layers.Dense(n_features, activation='softmax'),\n",
        "    ])\n",
        "\n",
        "# modèle CNN\n",
        "# combinaison des deux modèles ci-dessus\n",
        "def cnn_model(conv_model, classif_model):\n",
        "    return tf.keras.Sequential([\n",
        "        conv_model,\n",
        "        classif_model\n",
        "    ])"
      ],
      "execution_count": 0,
      "outputs": []
    },
    {
      "cell_type": "markdown",
      "metadata": {
        "id": "0-0G5SHsaX06",
        "colab_type": "text"
      },
      "source": [
        "### Entrainement du modèle sur les données A, puis évaluation sur A et B"
      ]
    },
    {
      "cell_type": "code",
      "metadata": {
        "id": "8GvEjDRqbNXm",
        "colab_type": "code",
        "colab": {
          "base_uri": "https://localhost:8080/",
          "height": 1000
        },
        "outputId": "dba75410-b4da-431e-ad50-ff5021b4660a"
      },
      "source": [
        "# create models\n",
        "conv_model1 = conv_model(IMG_SHAPE)\n",
        "classif_model1 = classif_model(conv_model1.output.shape, n_features)\n",
        "cnn_model1 = cnn_model(conv_model1, classif_model1)\n",
        "\n",
        "# compile cnn model\n",
        "cnn_model1.compile(loss='categorical_crossentropy',\n",
        "                  optimizer=OPTIMIZER,\n",
        "                  metrics=['accuracy'])\n",
        "# display our model\n",
        "print(cnn_model1.summary())\n",
        "\n",
        "# train it \n",
        "cnn_model1.fit(x=x_trainA, y=y_trainA, validation_split=VAL_SPLIT,\n",
        "               batch_size=BATCH_SIZE, epochs=N_EPOCHS, verbose=1, shuffle=False)"
      ],
      "execution_count": 7,
      "outputs": [
        {
          "output_type": "stream",
          "text": [
            "Model: \"sequential_2\"\n",
            "_________________________________________________________________\n",
            "Layer (type)                 Output Shape              Param #   \n",
            "=================================================================\n",
            "sequential (Sequential)      (None, 4096)              1110784   \n",
            "_________________________________________________________________\n",
            "sequential_1 (Sequential)    multiple                  4722180   \n",
            "=================================================================\n",
            "Total params: 5,832,964\n",
            "Trainable params: 5,831,812\n",
            "Non-trainable params: 1,152\n",
            "_________________________________________________________________\n",
            "None\n",
            "Train on 1350 samples, validate on 150 samples\n",
            "Epoch 1/30\n",
            "1350/1350 [==============================] - 12s 9ms/sample - loss: 1.2632 - accuracy: 0.4415 - val_loss: 1.3888 - val_accuracy: 0.2067\n",
            "Epoch 2/30\n",
            "1350/1350 [==============================] - 4s 3ms/sample - loss: 0.9585 - accuracy: 0.5985 - val_loss: 1.4027 - val_accuracy: 0.2533\n",
            "Epoch 3/30\n",
            "1350/1350 [==============================] - 4s 3ms/sample - loss: 0.8599 - accuracy: 0.6422 - val_loss: 1.4142 - val_accuracy: 0.2333\n",
            "Epoch 4/30\n",
            "1350/1350 [==============================] - 4s 3ms/sample - loss: 0.7526 - accuracy: 0.7000 - val_loss: 1.4139 - val_accuracy: 0.2400\n",
            "Epoch 5/30\n",
            "1350/1350 [==============================] - 4s 3ms/sample - loss: 0.6578 - accuracy: 0.7230 - val_loss: 1.4119 - val_accuracy: 0.2400\n",
            "Epoch 6/30\n",
            "1350/1350 [==============================] - 4s 3ms/sample - loss: 0.6079 - accuracy: 0.7563 - val_loss: 1.3877 - val_accuracy: 0.2667\n",
            "Epoch 7/30\n",
            "1350/1350 [==============================] - 4s 3ms/sample - loss: 0.5318 - accuracy: 0.7970 - val_loss: 1.4034 - val_accuracy: 0.2533\n",
            "Epoch 8/30\n",
            "1350/1350 [==============================] - 4s 3ms/sample - loss: 0.4279 - accuracy: 0.8319 - val_loss: 1.3186 - val_accuracy: 0.3267\n",
            "Epoch 9/30\n",
            "1350/1350 [==============================] - 4s 3ms/sample - loss: 0.3849 - accuracy: 0.8533 - val_loss: 1.2653 - val_accuracy: 0.3933\n",
            "Epoch 10/30\n",
            "1350/1350 [==============================] - 4s 3ms/sample - loss: 0.3422 - accuracy: 0.8822 - val_loss: 1.2165 - val_accuracy: 0.5067\n",
            "Epoch 11/30\n",
            "1350/1350 [==============================] - 4s 3ms/sample - loss: 0.3244 - accuracy: 0.8807 - val_loss: 1.2408 - val_accuracy: 0.3867\n",
            "Epoch 12/30\n",
            "1350/1350 [==============================] - 4s 3ms/sample - loss: 0.2801 - accuracy: 0.8978 - val_loss: 1.3226 - val_accuracy: 0.4333\n",
            "Epoch 13/30\n",
            "1350/1350 [==============================] - 4s 3ms/sample - loss: 0.2474 - accuracy: 0.9148 - val_loss: 1.2020 - val_accuracy: 0.4733\n",
            "Epoch 14/30\n",
            "1350/1350 [==============================] - 4s 3ms/sample - loss: 0.2390 - accuracy: 0.9200 - val_loss: 1.1169 - val_accuracy: 0.5267\n",
            "Epoch 15/30\n",
            "1350/1350 [==============================] - 4s 3ms/sample - loss: 0.2153 - accuracy: 0.9259 - val_loss: 1.1288 - val_accuracy: 0.4933\n",
            "Epoch 16/30\n",
            "1350/1350 [==============================] - 4s 3ms/sample - loss: 0.1589 - accuracy: 0.9422 - val_loss: 1.0737 - val_accuracy: 0.5400\n",
            "Epoch 17/30\n",
            "1350/1350 [==============================] - 4s 3ms/sample - loss: 0.1226 - accuracy: 0.9652 - val_loss: 1.0426 - val_accuracy: 0.5800\n",
            "Epoch 18/30\n",
            "1350/1350 [==============================] - 4s 3ms/sample - loss: 0.0973 - accuracy: 0.9793 - val_loss: 1.0368 - val_accuracy: 0.6067\n",
            "Epoch 19/30\n",
            "1350/1350 [==============================] - 4s 3ms/sample - loss: 0.0837 - accuracy: 0.9770 - val_loss: 1.1022 - val_accuracy: 0.5733\n",
            "Epoch 20/30\n",
            "1350/1350 [==============================] - 4s 3ms/sample - loss: 0.0780 - accuracy: 0.9770 - val_loss: 1.1190 - val_accuracy: 0.6133\n",
            "Epoch 21/30\n",
            "1350/1350 [==============================] - 4s 3ms/sample - loss: 0.0995 - accuracy: 0.9711 - val_loss: 1.1381 - val_accuracy: 0.6133\n",
            "Epoch 22/30\n",
            "1350/1350 [==============================] - 4s 3ms/sample - loss: 0.0895 - accuracy: 0.9719 - val_loss: 0.9299 - val_accuracy: 0.6733\n",
            "Epoch 23/30\n",
            "1350/1350 [==============================] - 4s 3ms/sample - loss: 0.0746 - accuracy: 0.9778 - val_loss: 1.1096 - val_accuracy: 0.6467\n",
            "Epoch 24/30\n",
            "1350/1350 [==============================] - 4s 3ms/sample - loss: 0.0866 - accuracy: 0.9704 - val_loss: 1.0672 - val_accuracy: 0.6733\n",
            "Epoch 25/30\n",
            "1350/1350 [==============================] - 4s 3ms/sample - loss: 0.0944 - accuracy: 0.9667 - val_loss: 0.9471 - val_accuracy: 0.7133\n",
            "Epoch 26/30\n",
            "1350/1350 [==============================] - 4s 3ms/sample - loss: 0.0875 - accuracy: 0.9711 - val_loss: 0.9725 - val_accuracy: 0.6867\n",
            "Epoch 27/30\n",
            "1350/1350 [==============================] - 4s 3ms/sample - loss: 0.0841 - accuracy: 0.9704 - val_loss: 0.9267 - val_accuracy: 0.7067\n",
            "Epoch 28/30\n",
            "1350/1350 [==============================] - 4s 3ms/sample - loss: 0.0755 - accuracy: 0.9711 - val_loss: 1.0342 - val_accuracy: 0.7133\n",
            "Epoch 29/30\n",
            "1350/1350 [==============================] - 4s 3ms/sample - loss: 0.0590 - accuracy: 0.9837 - val_loss: 1.4142 - val_accuracy: 0.6400\n",
            "Epoch 30/30\n",
            "1350/1350 [==============================] - 4s 3ms/sample - loss: 0.0515 - accuracy: 0.9844 - val_loss: 1.0918 - val_accuracy: 0.6933\n"
          ],
          "name": "stdout"
        },
        {
          "output_type": "execute_result",
          "data": {
            "text/plain": [
              "<tensorflow.python.keras.callbacks.History at 0x7f34fb155a58>"
            ]
          },
          "metadata": {
            "tags": []
          },
          "execution_count": 7
        }
      ]
    },
    {
      "cell_type": "code",
      "metadata": {
        "id": "3AdKcv81zFGZ",
        "colab_type": "code",
        "colab": {
          "base_uri": "https://localhost:8080/",
          "height": 105
        },
        "outputId": "d4a2dda6-9669-453b-c26b-d5678f909f99"
      },
      "source": [
        "# evaluate on datasets A and B\n",
        "results1A = cnn_model1.evaluate(x=x_testA, y=y_testA, batch_size=BATCH_SIZE)\n",
        "results1B = cnn_model1.evaluate(x=x_testB, y=y_testB, batch_size=BATCH_SIZE)\n",
        "print(f'testA loss, testA acc {results1A}')\n",
        "print(f'testB loss, testB acc {results1B}')"
      ],
      "execution_count": 8,
      "outputs": [
        {
          "output_type": "stream",
          "text": [
            "500/1 [========================================================================================================================================================================================================================================================================================================================================================================================================================================================================================================================================================================================================================================================================================================================================================================================================================================================================================================================================================================================================================================================================================================================================================================================================================================================================================================================================================================================================================================================================================================================================================================================================================================================================================================================================================================================================================================================================================================================================================================================================================================================================================================================================================================================================================================================================================================================================================================================================================================================================================================================================================================================================================================================================================================================================================================================================================================================================================================================================================================================================================================================================================================================================================================================================================================================================================================================================================================================================================================================================================================================================================================================================================================================================================================================================================================================================================================================================================================================================================================================================================================================================================================================================================================================================================================================================================================================================================================================================================================================================================================================================================================================================================================================================================================================================================================================================================================================================================================================================================================================================================================================================================================================================================================================================================================================================================================================================================================================================================================================================================================================================================================================================================================================================================================================================================================================================================================================================================================================================================================================================================================================================================================================================================================================================================================================================================================================================================================================================================================================================================================================================================================================================================================================================================================================================================================================================================================================================================================================================================================================================================================================================================================================================================================================================================================================================================================================================================================================================================================================================================================================================================================================================================================================================================================================================================================================================================================================================================================================================================================================================================================================================================================================================================================================================================================================================================================================================================================================================================================================================================================================================================================================================================================================================================================================================================================================================================================================================================================================================================================================================================================================================================================================================================================================================================================================================================================================================================================================================================================================================================================================================================================================================================================================================================================================================================================================================================================================================================================================================================================================================================================================================================================================================================================================================================================================================================================================================================================================================================================================================================================================================================================================================================================================================================================================================================================================================================================================================================================================================================================================================================================================================================================================================================================================================================================================================================================================================================================================================================================================================================================================================================================================================================================================================================================================================================================================================================================================================================================================================================================================================================================================================================================================================================================================================================================================================================================================================================================================================================================================================================================================================================================================================================================================================================================================================================================================================================================================================================================================================================================================================================================================================================================================================================================================================================================================================================================================================================================================================================================================================================================================================================================================================================================================================================================================================================================================================================================================================================================================================================================================================================================================================================================================================================================================================================================================================================================================================================================================================================================================================================================================================================================================================================================================================================================================================================================================================================================================================================================================================================================================================================================================================================================================================================================================================================================================================================================================================================================================================================================================================================================================================================================================================================] - 1s 2ms/sample - loss: 1.3607 - accuracy: 0.6700\n",
            "500/1 [========================================================================================================================================================================================================================================================================================================================================================================================================================================================================================================================================================================================================================================================================================================================================================================================================================================================================================================================================================================================================================================================================================================================================================================================================================================================================================================================================================================================================================================================================================================================================================================================================================================================================================================================================================================================================================================================================================================================================================================================================================================================================================================================================================================================================================================================================================================================================================================================================================================================================================================================================================================================================================================================================================================================================================================================================================================================================================================================================================================================================================================================================================================================================================================================================================================================================================================================================================================================================================================================================================================================================================================================================================================================================================================================================================================================================================================================================================================================================================================================================================================================================================================================================================================================================================================================================================================================================================================================================================================================================================================================================================================================================================================================================================================================================================================================================================================================================================================================================================================================================================================================================================================================================================================================================================================================================================================================================================================================================================================================================================================================================================================================================================================================================================================================================================================================================================================================================================================================================================================================================================================================================================================================================================================================================================================================================================================================================================================================================================================================================================================================================================================================================================================================================================================================================================================================================================================================================================================================================================================================================================================================================================================================================================================================================================================================================================================================================================================================================================================================================================================================================================================================================================================================================================================================================================================================================================================================================================================================================================================================================================================================================================================================================================================================================================================================================================================================================================================================================================================================================================================================================================================================================================================================================================================================================================================================================================================================================================================================================================================================================================================================================================================================================================================================================================================================================================================================================================================================================================================================================================================================================================================================================================================================================================================================================================================================================================================================================================================================================================================================================================================================================================================================================================================================================================================================================================================================================================================================================================================================================================================================================================================================================================================================================================================================================================================================================================================================================================================================================================================================================================================================================================================================================================================================================================================================================================================================================================================================================================================================================================================================================================================================================================================================================================================================================================================================================================================================================================================================================================================================================================================================================================================================================================================================================================================================================================================================================================================================================================================================================================================================================================================================================================================================================================================================================================================================================================================================================================================================================================================================================================================================================================================================================================================================================================================================================================================================================================================================================================================================================================================================================================================================================================================================================================================================================================================================================================================================================================================================================================================================================================================================================================================================================================================================================================================================================================================================================================================================================================================================================================================================================================================================================================================================================================================================================================================================================================================================================================================================================================================================================================================================================================================================================================================================================================================================================================================================================================================================================================================================================================================================================================================================================================] - 0s 818us/sample - loss: 1.8667 - accuracy: 0.5040\n",
            "testA loss, testA acc [1.2001464824676513, 0.67]\n",
            "testB loss, testB acc [2.025765874862671, 0.504]\n"
          ],
          "name": "stdout"
        }
      ]
    },
    {
      "cell_type": "markdown",
      "metadata": {
        "id": "eZgXh4ZmOqkG",
        "colab_type": "text"
      },
      "source": [
        "### Commentaires\n",
        "\n",
        "* Sans surprise, notre modèle fonctionne mieux sur le dataset A que B.\n",
        "* Notre apprentissage n'est pas si mauvais pour le dataset B (on fait ici deux fois mieux que le hasard - rappelons qu'il y a 4 classes à prédire)"
      ]
    },
    {
      "cell_type": "markdown",
      "metadata": {
        "id": "aDIVGF9dbnSO",
        "colab_type": "text"
      },
      "source": [
        "### Entrainement et évaluation du modèle sur les données B\n",
        "\n",
        "Attention à ne pas réutiliser la variable `model`, déjà  entrainée sur A, il faut créer une nouvelle instance `model2` à partir des fonctions **conv_model()** et **classif_model()** définies précédemment."
      ]
    },
    {
      "cell_type": "code",
      "metadata": {
        "id": "Fn_v9W7L0VkP",
        "colab_type": "code",
        "colab": {
          "base_uri": "https://localhost:8080/",
          "height": 1000
        },
        "outputId": "6e3ca2dc-7c74-4339-e6bc-c7e149e4197c"
      },
      "source": [
        "# create models\n",
        "conv_model2 = conv_model(IMG_SHAPE)\n",
        "classif_model2 = classif_model(conv_model2.output.shape, n_features)\n",
        "cnn_model2 = cnn_model(conv_model2, classif_model2)\n",
        "\n",
        "# compile cnn model\n",
        "cnn_model2.compile(loss='categorical_crossentropy',\n",
        "                  optimizer=OPTIMIZER,\n",
        "                  metrics=['accuracy'])\n",
        "# display our model\n",
        "print(cnn_model2.summary())\n",
        "\n",
        "# train it \n",
        "cnn_model2.fit(x=x_trainB[:KNOWN_IMG], y=y_trainB, validation_split=VAL_SPLIT,\n",
        "               batch_size=BATCH_SIZE, epochs=N_EPOCHS, verbose=1, shuffle=False)"
      ],
      "execution_count": 9,
      "outputs": [
        {
          "output_type": "stream",
          "text": [
            "Model: \"sequential_5\"\n",
            "_________________________________________________________________\n",
            "Layer (type)                 Output Shape              Param #   \n",
            "=================================================================\n",
            "sequential_3 (Sequential)    (None, 4096)              1110784   \n",
            "_________________________________________________________________\n",
            "sequential_4 (Sequential)    multiple                  4722180   \n",
            "=================================================================\n",
            "Total params: 5,832,964\n",
            "Trainable params: 5,831,812\n",
            "Non-trainable params: 1,152\n",
            "_________________________________________________________________\n",
            "None\n",
            "Train on 45 samples, validate on 5 samples\n",
            "Epoch 1/30\n",
            "45/45 [==============================] - 3s 74ms/sample - loss: 1.7565 - accuracy: 0.2889 - val_loss: 1.3708 - val_accuracy: 0.2000\n",
            "Epoch 2/30\n",
            "45/45 [==============================] - 0s 3ms/sample - loss: 0.9498 - accuracy: 0.6667 - val_loss: 1.3583 - val_accuracy: 0.2000\n",
            "Epoch 3/30\n",
            "45/45 [==============================] - 0s 3ms/sample - loss: 0.9295 - accuracy: 0.5556 - val_loss: 1.3405 - val_accuracy: 0.4000\n",
            "Epoch 4/30\n",
            "45/45 [==============================] - 0s 3ms/sample - loss: 0.5462 - accuracy: 0.8444 - val_loss: 1.3245 - val_accuracy: 0.6000\n",
            "Epoch 5/30\n",
            "45/45 [==============================] - 0s 3ms/sample - loss: 0.3978 - accuracy: 0.9778 - val_loss: 1.3243 - val_accuracy: 0.6000\n",
            "Epoch 6/30\n",
            "45/45 [==============================] - 0s 3ms/sample - loss: 0.2130 - accuracy: 0.9556 - val_loss: 1.3283 - val_accuracy: 0.4000\n",
            "Epoch 7/30\n",
            "45/45 [==============================] - 0s 3ms/sample - loss: 0.1823 - accuracy: 0.9778 - val_loss: 1.3345 - val_accuracy: 0.4000\n",
            "Epoch 8/30\n",
            "45/45 [==============================] - 0s 3ms/sample - loss: 0.1262 - accuracy: 0.9778 - val_loss: 1.3411 - val_accuracy: 0.4000\n",
            "Epoch 9/30\n",
            "45/45 [==============================] - 0s 3ms/sample - loss: 0.0628 - accuracy: 1.0000 - val_loss: 1.3533 - val_accuracy: 0.4000\n",
            "Epoch 10/30\n",
            "45/45 [==============================] - 0s 3ms/sample - loss: 0.0482 - accuracy: 1.0000 - val_loss: 1.3646 - val_accuracy: 0.4000\n",
            "Epoch 11/30\n",
            "45/45 [==============================] - 0s 3ms/sample - loss: 0.0250 - accuracy: 1.0000 - val_loss: 1.3722 - val_accuracy: 0.2000\n",
            "Epoch 12/30\n",
            "45/45 [==============================] - 0s 3ms/sample - loss: 0.0081 - accuracy: 1.0000 - val_loss: 1.3798 - val_accuracy: 0.2000\n",
            "Epoch 13/30\n",
            "45/45 [==============================] - 0s 3ms/sample - loss: 0.0875 - accuracy: 0.9778 - val_loss: 1.4032 - val_accuracy: 0.2000\n",
            "Epoch 14/30\n",
            "45/45 [==============================] - 0s 3ms/sample - loss: 0.0092 - accuracy: 1.0000 - val_loss: 1.4350 - val_accuracy: 0.2000\n",
            "Epoch 15/30\n",
            "45/45 [==============================] - 0s 3ms/sample - loss: 0.0261 - accuracy: 0.9778 - val_loss: 1.4661 - val_accuracy: 0.2000\n",
            "Epoch 16/30\n",
            "45/45 [==============================] - 0s 3ms/sample - loss: 0.0079 - accuracy: 1.0000 - val_loss: 1.5025 - val_accuracy: 0.2000\n",
            "Epoch 17/30\n",
            "45/45 [==============================] - 0s 3ms/sample - loss: 0.0027 - accuracy: 1.0000 - val_loss: 1.5415 - val_accuracy: 0.2000\n",
            "Epoch 18/30\n",
            "45/45 [==============================] - 0s 3ms/sample - loss: 0.0053 - accuracy: 1.0000 - val_loss: 1.5793 - val_accuracy: 0.2000\n",
            "Epoch 19/30\n",
            "45/45 [==============================] - 0s 3ms/sample - loss: 0.0203 - accuracy: 1.0000 - val_loss: 1.5768 - val_accuracy: 0.2000\n",
            "Epoch 20/30\n",
            "45/45 [==============================] - 0s 3ms/sample - loss: 0.0019 - accuracy: 1.0000 - val_loss: 1.5779 - val_accuracy: 0.2000\n",
            "Epoch 21/30\n",
            "45/45 [==============================] - 0s 3ms/sample - loss: 0.0238 - accuracy: 1.0000 - val_loss: 1.6142 - val_accuracy: 0.2000\n",
            "Epoch 22/30\n",
            "45/45 [==============================] - 0s 3ms/sample - loss: 0.0691 - accuracy: 0.9778 - val_loss: 1.6892 - val_accuracy: 0.2000\n",
            "Epoch 23/30\n",
            "45/45 [==============================] - 0s 3ms/sample - loss: 9.9280e-04 - accuracy: 1.0000 - val_loss: 1.7782 - val_accuracy: 0.2000\n",
            "Epoch 24/30\n",
            "45/45 [==============================] - 0s 3ms/sample - loss: 5.9115e-04 - accuracy: 1.0000 - val_loss: 1.8821 - val_accuracy: 0.2000\n",
            "Epoch 25/30\n",
            "45/45 [==============================] - 0s 3ms/sample - loss: 0.0071 - accuracy: 1.0000 - val_loss: 1.9961 - val_accuracy: 0.2000\n",
            "Epoch 26/30\n",
            "45/45 [==============================] - 0s 3ms/sample - loss: 0.0024 - accuracy: 1.0000 - val_loss: 2.1150 - val_accuracy: 0.2000\n",
            "Epoch 27/30\n",
            "45/45 [==============================] - 0s 3ms/sample - loss: 0.0020 - accuracy: 1.0000 - val_loss: 2.2365 - val_accuracy: 0.2000\n",
            "Epoch 28/30\n",
            "45/45 [==============================] - 0s 3ms/sample - loss: 0.0144 - accuracy: 1.0000 - val_loss: 2.3298 - val_accuracy: 0.2000\n",
            "Epoch 29/30\n",
            "45/45 [==============================] - 0s 3ms/sample - loss: 0.0356 - accuracy: 0.9778 - val_loss: 2.5105 - val_accuracy: 0.2000\n",
            "Epoch 30/30\n",
            "45/45 [==============================] - 0s 3ms/sample - loss: 0.0160 - accuracy: 1.0000 - val_loss: 2.6886 - val_accuracy: 0.2000\n"
          ],
          "name": "stdout"
        },
        {
          "output_type": "execute_result",
          "data": {
            "text/plain": [
              "<tensorflow.python.keras.callbacks.History at 0x7f34f8d38c18>"
            ]
          },
          "metadata": {
            "tags": []
          },
          "execution_count": 9
        }
      ]
    },
    {
      "cell_type": "code",
      "metadata": {
        "id": "uVnJo3ZUbtRD",
        "colab_type": "code",
        "colab": {
          "base_uri": "https://localhost:8080/",
          "height": 105
        },
        "outputId": "43587cd6-92be-408b-81e8-f5c35a4e7058"
      },
      "source": [
        "# evaluate on datasets A and B\n",
        "results2A = cnn_model2.evaluate(x=x_testA, y=y_testA, batch_size=BATCH_SIZE)\n",
        "results2B = cnn_model2.evaluate(x=x_testB, y=y_testB, batch_size=BATCH_SIZE)\n",
        "print(f'testA loss, testA acc {results2A}')\n",
        "print(f'testB loss, testB acc {results2B}')"
      ],
      "execution_count": 10,
      "outputs": [
        {
          "output_type": "stream",
          "text": [
            "500/1 [========================================================================================================================================================================================================================================================================================================================================================================================================================================================================================================================================================================================================================================================================================================================================================================================================================================================================================================================================================================================================================================================================================================================================================================================================================================================================================================================================================================================================================================================================================================================================================================================================================================================================================================================================================================================================================================================================================================================================================================================================================================================================================================================================================================================================================================================================================================================================================================================================================================================================================================================================================================================================================================================================================================================================================================================================================================================================================================================================================================================================================================================================================================================================================================================================================================================================================================================================================================================================================================================================================================================================================================================================================================================================================================================================================================================================================================================================================================================================================================================================================================================================================================================================================================================================================================================================================================================================================================================================================================================================================================================================================================================================================================================================================================================================================================================================================================================================================================================================================================================================================================================================================================================================================================================================================================================================================================================================================================================================================================================================================================================================================================================================================================================================================================================================================================================================================================================================================================================================================================================================================================================================================================================================================================================================================================================================================================================================================================================================================================================================================================================================================================================================================================================================================================================================================================================================================================================================================================================================================================================================================================================================================================================================================================================================================================================================================================================================================================================================================================================================================================================================================================================================================================================================================================================================================================================================================================================================================================================================================================================================================================================================================================================================================================================================================================================================================================================================================================================================================================================================================================================================================================================================================================================================================================================================================================================================================================================================================================================================================================================================================================================================================================================================================================================================================================================================================================================================================================================================================================================================================================================================================================================================================================================================================================================================================================================================================================================================================================================================================================================================================================================================================================================================================================================================================================================================================================================================================================================================================================================================================================================================================================================================================================================================================================================================================================================================================================================================================================================================================================================================================================================================================================================================================================================================================================================================================================================================================================================================================================================================================================================================================================================================================================================================================================================================================================================================================================================================================================================================================================================================================================================================================================================================================================================================================================================================================================================================================================================================================================================================================================================================================================================================================================================================================================================================================================================================================================================================================================================================================================================================================================================================================================================================================================================================================================================================================================================================================================================================================================================================================================================================================================================================================================================================================================================================================================================================================================================================================================================================================================================================================================================================================================================================================================================================================================================================================================================================================================================================================================================================================================================================================================================================================================================================================================================================================================================================================================================================================================================================================================================================================================================================================================================================================================================================================================================================================================================================================================================================================================================================================================================================================================================================================] - 0s 794us/sample - loss: 2.3559 - accuracy: 0.2660\n",
            "500/1 [========================================================================================================================================================================================================================================================================================================================================================================================================================================================================================================================================================================================================================================================================================================================================================================================================================================================================================================================================================================================================================================================================================================================================================================================================================================================================================================================================================================================================================================================================================================================================================================================================================================================================================================================================================================================================================================================================================================================================================================================================================================================================================================================================================================================================================================================================================================================================================================================================================================================================================================================================================================================================================================================================================================================================================================================================================================================================================================================================================================================================================================================================================================================================================================================================================================================================================================================================================================================================================================================================================================================================================================================================================================================================================================================================================================================================================================================================================================================================================================================================================================================================================================================================================================================================================================================================================================================================================================================================================================================================================================================================================================================================================================================================================================================================================================================================================================================================================================================================================================================================================================================================================================================================================================================================================================================================================================================================================================================================================================================================================================================================================================================================================================================================================================================================================================================================================================================================================================================================================================================================================================================================================================================================================================================================================================================================================================================================================================================================================================================================================================================================================================================================================================================================================================================================================================================================================================================================================================================================================================================================================================================================================================================================================================================================================================================================================================================================================================================================================================================================================================================================================================================================================================================================================================================================================================================================================================================================================================================================================================================================================================================================================================================================================================================================================================================================================================================================================================================================================================================================================================================================================================================================================================================================================================================================================================================================================================================================================================================================================================================================================================================================================================================================================================================================================================================================================================================================================================================================================================================================================================================================================================================================================================================================================================================================================================================================================================================================================================================================================================================================================================================================================================================================================================================================================================================================================================================================================================================================================================================================================================================================================================================================================================================================================================================================================================================================================================================================================================================================================================================================================================================================================================================================================================================================================================================================================================================================================================================================================================================================================================================================================================================================================================================================================================================================================================================================================================================================================================================================================================================================================================================================================================================================================================================================================================================================================================================================================================================================================================================================================================================================================================================================================================================================================================================================================================================================================================================================================================================================================================================================================================================================================================================================================================================================================================================================================================================================================================================================================================================================================================================================================================================================================================================================================================================================================================================================================================================================================================================================================================================================================================================================================================================================================================================================================================================================================================================================================================================================================================================================================================================================================================================================================================================================================================================================================================================================================================================================================================================================================================================================================================================================================================================================================================================================================================================================================================================================================================================================================================================================================================================================================================================================================] - 0s 809us/sample - loss: 2.3994 - accuracy: 0.2420\n",
            "testA loss, testA acc [2.37211967086792, 0.266]\n",
            "testB loss, testB acc [2.4922947006225584, 0.242]\n"
          ],
          "name": "stdout"
        }
      ]
    },
    {
      "cell_type": "markdown",
      "metadata": {
        "id": "IQ82M78uxDXD",
        "colab_type": "text"
      },
      "source": [
        "### Commentaires\n",
        "\n",
        "* C'est une véritable catastrophe, notre modèle est en fait un oracle de très mauvaise qualité - il fait aussi bien qu'un tirage aléatoire selon une distribution uniforme...\n",
        "* Cette observation vaut à la fois pour le dataset A et B."
      ]
    },
    {
      "cell_type": "markdown",
      "metadata": {
        "id": "083Zv7bAb6eR",
        "colab_type": "text"
      },
      "source": [
        "### Finetuning sur B du modèle entrainé sur A"
      ]
    },
    {
      "cell_type": "code",
      "metadata": {
        "id": "xXQU24qAcBcy",
        "colab_type": "code",
        "colab": {
          "base_uri": "https://localhost:8080/",
          "height": 1000
        },
        "outputId": "32337942-b389-4535-8062-71d9ca552264"
      },
      "source": [
        "# get the trained model on dataset A\n",
        "cnn_model3 = cnn_model1\n",
        "\n",
        "# freeze the conv model\n",
        "cnn_model3.layers[0].trainable = False\n",
        "# make sur the classification one is trainable\n",
        "cnn_model3.layers[1].trainable = True\n",
        "\n",
        "# compile cnn model\n",
        "cnn_model3.compile(loss='categorical_crossentropy',\n",
        "                  optimizer=OPTIMIZER,\n",
        "                  metrics=['accuracy'])\n",
        "\n",
        "# display it\n",
        "print(cnn_model3.summary())\n",
        "\n",
        "# train the classification block again on dataset B\n",
        "cnn_model3.fit(x=x_trainB[:KNOWN_IMG], y=y_trainB, validation_split=VAL_SPLIT,\n",
        "               batch_size=BATCH_SIZE, epochs=N_EPOCHS, verbose=1, shuffle=False)"
      ],
      "execution_count": 11,
      "outputs": [
        {
          "output_type": "stream",
          "text": [
            "Model: \"sequential_2\"\n",
            "_________________________________________________________________\n",
            "Layer (type)                 Output Shape              Param #   \n",
            "=================================================================\n",
            "sequential (Sequential)      (None, 4096)              1110784   \n",
            "_________________________________________________________________\n",
            "sequential_1 (Sequential)    multiple                  4722180   \n",
            "=================================================================\n",
            "Total params: 5,832,964\n",
            "Trainable params: 4,722,180\n",
            "Non-trainable params: 1,110,784\n",
            "_________________________________________________________________\n",
            "None\n",
            "Train on 45 samples, validate on 5 samples\n",
            "Epoch 1/30\n",
            "45/45 [==============================] - 1s 15ms/sample - loss: 1.6130 - accuracy: 0.5778 - val_loss: 1.2150 - val_accuracy: 0.6000\n",
            "Epoch 2/30\n",
            "45/45 [==============================] - 0s 2ms/sample - loss: 1.7708 - accuracy: 0.5778 - val_loss: 0.9447 - val_accuracy: 0.6000\n",
            "Epoch 3/30\n",
            "45/45 [==============================] - 0s 1ms/sample - loss: 1.3603 - accuracy: 0.6444 - val_loss: 0.7151 - val_accuracy: 0.6000\n",
            "Epoch 4/30\n",
            "45/45 [==============================] - 0s 1ms/sample - loss: 1.0591 - accuracy: 0.7333 - val_loss: 0.5562 - val_accuracy: 0.8000\n",
            "Epoch 5/30\n",
            "45/45 [==============================] - 0s 1ms/sample - loss: 0.9246 - accuracy: 0.7333 - val_loss: 0.4820 - val_accuracy: 0.8000\n",
            "Epoch 6/30\n",
            "45/45 [==============================] - 0s 1ms/sample - loss: 0.9515 - accuracy: 0.7111 - val_loss: 0.4737 - val_accuracy: 0.8000\n",
            "Epoch 7/30\n",
            "45/45 [==============================] - 0s 1ms/sample - loss: 0.6436 - accuracy: 0.7778 - val_loss: 0.5182 - val_accuracy: 0.8000\n",
            "Epoch 8/30\n",
            "45/45 [==============================] - 0s 1ms/sample - loss: 0.7333 - accuracy: 0.7556 - val_loss: 0.5939 - val_accuracy: 0.6000\n",
            "Epoch 9/30\n",
            "45/45 [==============================] - 0s 1ms/sample - loss: 0.4999 - accuracy: 0.8000 - val_loss: 0.7120 - val_accuracy: 0.6000\n",
            "Epoch 10/30\n",
            "45/45 [==============================] - 0s 1ms/sample - loss: 0.2448 - accuracy: 0.9556 - val_loss: 0.8292 - val_accuracy: 0.6000\n",
            "Epoch 11/30\n",
            "45/45 [==============================] - 0s 1ms/sample - loss: 0.2112 - accuracy: 0.9333 - val_loss: 0.9266 - val_accuracy: 0.6000\n",
            "Epoch 12/30\n",
            "45/45 [==============================] - 0s 1ms/sample - loss: 0.1610 - accuracy: 0.9556 - val_loss: 0.9888 - val_accuracy: 0.6000\n",
            "Epoch 13/30\n",
            "45/45 [==============================] - 0s 1ms/sample - loss: 0.1467 - accuracy: 1.0000 - val_loss: 1.0004 - val_accuracy: 0.6000\n",
            "Epoch 14/30\n",
            "45/45 [==============================] - 0s 1ms/sample - loss: 0.1515 - accuracy: 0.9333 - val_loss: 0.9575 - val_accuracy: 0.6000\n",
            "Epoch 15/30\n",
            "45/45 [==============================] - 0s 1ms/sample - loss: 0.1613 - accuracy: 0.9556 - val_loss: 0.8723 - val_accuracy: 0.6000\n",
            "Epoch 16/30\n",
            "45/45 [==============================] - 0s 1ms/sample - loss: 0.1157 - accuracy: 0.9778 - val_loss: 0.7707 - val_accuracy: 0.6000\n",
            "Epoch 17/30\n",
            "45/45 [==============================] - 0s 1ms/sample - loss: 0.0809 - accuracy: 1.0000 - val_loss: 0.6684 - val_accuracy: 0.6000\n",
            "Epoch 18/30\n",
            "45/45 [==============================] - 0s 1ms/sample - loss: 0.1006 - accuracy: 1.0000 - val_loss: 0.5722 - val_accuracy: 0.6000\n",
            "Epoch 19/30\n",
            "45/45 [==============================] - 0s 1ms/sample - loss: 0.0340 - accuracy: 1.0000 - val_loss: 0.4910 - val_accuracy: 0.6000\n",
            "Epoch 20/30\n",
            "45/45 [==============================] - 0s 1ms/sample - loss: 0.0552 - accuracy: 1.0000 - val_loss: 0.4305 - val_accuracy: 0.8000\n",
            "Epoch 21/30\n",
            "45/45 [==============================] - 0s 1ms/sample - loss: 0.0555 - accuracy: 0.9778 - val_loss: 0.3902 - val_accuracy: 0.8000\n",
            "Epoch 22/30\n",
            "45/45 [==============================] - 0s 1ms/sample - loss: 0.0395 - accuracy: 1.0000 - val_loss: 0.3615 - val_accuracy: 0.8000\n",
            "Epoch 23/30\n",
            "45/45 [==============================] - 0s 2ms/sample - loss: 0.0471 - accuracy: 1.0000 - val_loss: 0.3442 - val_accuracy: 0.8000\n",
            "Epoch 24/30\n",
            "45/45 [==============================] - 0s 1ms/sample - loss: 0.0541 - accuracy: 1.0000 - val_loss: 0.3351 - val_accuracy: 0.8000\n",
            "Epoch 25/30\n",
            "45/45 [==============================] - 0s 1ms/sample - loss: 0.0451 - accuracy: 1.0000 - val_loss: 0.3327 - val_accuracy: 0.8000\n",
            "Epoch 26/30\n",
            "45/45 [==============================] - 0s 1ms/sample - loss: 0.0294 - accuracy: 1.0000 - val_loss: 0.3343 - val_accuracy: 0.8000\n",
            "Epoch 27/30\n",
            "45/45 [==============================] - 0s 1ms/sample - loss: 0.0237 - accuracy: 1.0000 - val_loss: 0.3400 - val_accuracy: 0.8000\n",
            "Epoch 28/30\n",
            "45/45 [==============================] - 0s 1ms/sample - loss: 0.0472 - accuracy: 0.9778 - val_loss: 0.3516 - val_accuracy: 0.8000\n",
            "Epoch 29/30\n",
            "45/45 [==============================] - 0s 1ms/sample - loss: 0.0240 - accuracy: 1.0000 - val_loss: 0.3633 - val_accuracy: 0.8000\n",
            "Epoch 30/30\n",
            "45/45 [==============================] - 0s 1ms/sample - loss: 0.0180 - accuracy: 1.0000 - val_loss: 0.3770 - val_accuracy: 0.8000\n"
          ],
          "name": "stdout"
        },
        {
          "output_type": "execute_result",
          "data": {
            "text/plain": [
              "<tensorflow.python.keras.callbacks.History at 0x7f34f9cd9cc0>"
            ]
          },
          "metadata": {
            "tags": []
          },
          "execution_count": 11
        }
      ]
    },
    {
      "cell_type": "code",
      "metadata": {
        "id": "04g4JxJT3y_7",
        "colab_type": "code",
        "colab": {
          "base_uri": "https://localhost:8080/",
          "height": 105
        },
        "outputId": "ef24b483-d137-478e-8627-5ca12ac19b49"
      },
      "source": [
        "# evaluate on datasets A and B\n",
        "results3A = cnn_model3.evaluate(x=x_testA, y=y_testA, batch_size=BATCH_SIZE)\n",
        "results3B = cnn_model3.evaluate(x=x_testB, y=y_testB, batch_size=BATCH_SIZE)\n",
        "print(f'testA loss, testA acc {results3A}')\n",
        "print(f'testB loss, testB acc {results3B}')"
      ],
      "execution_count": 12,
      "outputs": [
        {
          "output_type": "stream",
          "text": [
            "500/1 [========================================================================================================================================================================================================================================================================================================================================================================================================================================================================================================================================================================================================================================================================================================================================================================================================================================================================================================================================================================================================================================================================================================================================================================================================================================================================================================================================================================================================================================================================================================================================================================================================================================================================================================================================================================================================================================================================================================================================================================================================================================================================================================================================================================================================================================================================================================================================================================================================================================================================================================================================================================================================================================================================================================================================================================================================================================================================================================================================================================================================================================================================================================================================================================================================================================================================================================================================================================================================================================================================================================================================================================================================================================================================================================================================================================================================================================================================================================================================================================================================================================================================================================================================================================================================================================================================================================================================================================================================================================================================================================================================================================================================================================================================================================================================================================================================================================================================================================================================================================================================================================================================================================================================================================================================================================================================================================================================================================================================================================================================================================================================================================================================================================================================================================================================================================================================================================================================================================================================================================================================================================================================================================================================================================================================================================================================================================================================================================================================================================================================================================================================================================================================================================================================================================================================================================================================================================================================================================================================================================================================================================================================================================================================================================================================================================================================================================================================================================================================================================================================================================================================================================================================================================================================================================================================================================================================================================================================================================================================================================================================================================================================================================================================================================================================================================================================================================================================================================================================================================================================================================================================================================================================================================================================================================================================================================================================================================================================================================================================================================================================================================================================================================================================================================================================================================================================================================================================================================================================================================================================================================================================================================================================================================================================================================================================================================================================================================================================================================================================================================================================================================================================================================================================================================================================================================================================================================================================================================================================================================================================================================================================================================================================================================================================================================================================================================================================================================================================================================================================================================================================================================================================================================================================================================================================================================================================================================================================================================================================================================================================================================================================================================================================================================================================================================================================================================================================================================================================================================================================================================================================================================================================================================================================================================================================================================================================================================================================================================================================================================================================================================================================================================================================================================================================================================================================================================================================================================================================================================================================================================================================================================================================================================================================================================================================================================================================================================================================================================================================================================================================================================================================================================================================================================================================================================================================================================================================================================================================================================================================================================================================================================================================================================================================================================================================================================================================================================================================================================================================================================================================================================================================================================================================================================================================================================================================================================================================================================================================================================================================================================================================================================================================================================================================================================================================================================================================================================================================================================================================================================================================================================================================================================================================================] - 0s 796us/sample - loss: 1.3206 - accuracy: 0.6320\n",
            "500/1 [========================================================================================================================================================================================================================================================================================================================================================================================================================================================================================================================================================================================================================================================================================================================================================================================================================================================================================================================================================================================================================================================================================================================================================================================================================================================================================================================================================================================================================================================================================================================================================================================================================================================================================================================================================================================================================================================================================================================================================================================================================================================================================================================================================================================================================================================================================================================================================================================================================================================================================================================================================================================================================================================================================================================================================================================================================================================================================================================================================================================================================================================================================================================================================================================================================================================================================================================================================================================================================================================================================================================================================================================================================================================================================================================================================================================================================================================================================================================================================================================================================================================================================================================================================================================================================================================================================================================================================================================================================================================================================================================================================================================================================================================================================================================================================================================================================================================================================================================================================================================================================================================================================================================================================================================================================================================================================================================================================================================================================================================================================================================================================================================================================================================================================================================================================================================================================================================================================================================================================================================================================================================================================================================================================================================================================================================================================================================================================================================================================================================================================================================================================================================================================================================================================================================================================================================================================================================================================================================================================================================================================================================================================================================================================================================================================================================================================================================================================================================================================================================================================================================================================================================================================================================================================================================================================================================================================================================================================================================================================================================================================================================================================================================================================================================================================================================================================================================================================================================================================================================================================================================================================================================================================================================================================================================================================================================================================================================================================================================================================================================================================================================================================================================================================================================================================================================================================================================================================================================================================================================================================================================================================================================================================================================================================================================================================================================================================================================================================================================================================================================================================================================================================================================================================================================================================================================================================================================================================================================================================================================================================================================================================================================================================================================================================================================================================================================================================================================================================================================================================================================================================================================================================================================================================================================================================================================================================================================================================================================================================================================================================================================================================================================================================================================================================================================================================================================================================================================================================================================================================================================================================================================================================================================================================================================================================================================================================================================================================================================================================================================================================================================================================================================================================================================================================================================================================================================================================================================================================================================================================================================================================================================================================================================================================================================================================================================================================================================================================================================================================================================================================================================================================================================================================================================================================================================================================================================================================================================================================================================================================================================================================================================================================================================================================================================================================================================================================================================================================================================================================================================================================================================================================================================================================================================================================================================================================================================================================================================================================================================================================================================================================================================================================================================================================================================================================================================================================================================================================================================================================================================================================================================================================================================================================] - 0s 799us/sample - loss: 1.6866 - accuracy: 0.5360\n",
            "testA loss, testA acc [1.2251971282958984, 0.632]\n",
            "testB loss, testB acc [1.6933895988464356, 0.536]\n"
          ],
          "name": "stdout"
        }
      ]
    },
    {
      "cell_type": "markdown",
      "metadata": {
        "id": "G-3j2kTBxEat",
        "colab_type": "text"
      },
      "source": [
        "### Commentaires\n",
        "\n",
        "* Victoire ! Notre tâche étant d'améliorer le score test sur le dataset B, nous pouvons considérer cette troisième méthode comme un succès.\n",
        "* A noter que notre troisième classifieur fait moins bien sur A que le premier, ce qui en soit était prévisible.\n",
        "\n",
        "* **REMARQUE IMPORTANTE : tous les résultats ont été obtenus en fixant le paramètre `shuffle=True` afin que vous puissez les reproduire à l'identique. Il est possible d'obtenir de meilleurs (ou moins boins) résultats selon le tirage vu la petitesse du jeu de données étudié.**"
      ]
    },
    {
      "cell_type": "markdown",
      "metadata": {
        "id": "rGTo8Gnyx-8s",
        "colab_type": "text"
      },
      "source": [
        "| | Accuracy trainA | Accuracy valA | Accuracy testA | Accuracy trainB | Accuracy valB | Accuracy testB |\n",
        "|---|---|---|---|---|---|---|\n",
        "| **Entrainement sur A** | 0.9726 | 0.76 | 0.716 | | | 0.502 |\n",
        "| **Entrainement sur B** | | | 0.266 | 1 | 0.2 | 0.242 |\n",
        "| **Entrainement sur A <br/> + Finetuning sur B** | | | 0.644 | 1 | 0.8 | 0.562 |"
      ]
    },
    {
      "cell_type": "markdown",
      "metadata": {
        "id": "PnDPVyBZ5JsN",
        "colab_type": "text"
      },
      "source": [
        "### **Conclusions partie 1**\n",
        "\n",
        "Si l'on cherche à classifier un jeu de données B pour lequels on a que très peu d'exemples, il est important de chercher un jeu de données A bien plus grand qui ressemble (ou du moins où les classes de B sont inclues dans les classes de A).\n",
        "\n",
        "En effet, la partie 1 met en lumière que :\n",
        "\n",
        "* Entrainer un réseau de neurones (NN) exclusivement sur un jeu de données avec 50 exemples est complètement inefficace (score de 0.242 en test)\n",
        "\n",
        "* Entrainer un NN sur un grand jeu de données A (tout est relatif, nous avons pris 1350 images en apprentissage) pour ensuiter le ré-utiliser tel quel sur un jeu de données B (qui respectent les propriétés citées ci-dessus) fonctionne bien mieux (score de 0.502 en test).\n",
        "\n",
        "* Les meilleurs résultats sont obtenus en utlisant la technique de transfert d'apprentissage.\n",
        "    * On entraîne un NN sur le jeu de données A.\n",
        "    * On récupère le NN ainsi entraîné et on entraîne uniquement son bloc de classification à nouveau. Cette technique a l'avantage de transférer l'information commune (un gorille reste un gorille et un zèbre reste un zèbre !) pour une nouvelle tâche.\n",
        "    * En allant plus loin sur des jeux de données bien plus conséquents, on peut se rendre compte que ce transfert se révèle aussi très efficace pour réutiliser les blocs convolutionnels les plus profonds. On ré-entraine alors notre modèle avec 1 ou 2 blocs convolutionnels + le bloc de classification, ce qui permet de *spécifier* notre réseau pour une tâche donnée."
      ]
    },
    {
      "cell_type": "markdown",
      "metadata": {
        "id": "8vv5WxG2cRgu",
        "colab_type": "text"
      },
      "source": [
        "\n",
        "## Partie 2 : Adaptation de domaine par alignement des activations\n",
        "\n",
        "Cette partie consiste à implémenter et évaluer un modèle inspiré de l'article <a href=\"https://arxiv.org/pdf/1607.01719.pdf\">Deep CORAL: Correlation Alignment for Deep Domain Adaptation [Sun & Saenko, 2016] </a>, dont la figure suivante illustre le fonctionnement. \n",
        "\n",
        "<center><img src=\"http://stephane.ayache.perso.luminy.univ-amu.fr/examdeep/coral16.png\" width=\"50%\" /></center>\n",
        "\n",
        "Considérez les instructions suivantes :\n",
        "- Utilisez les mêmes modules de convolutions que dans la Partie 1 afin de rester comparable. Pour cela, considérez une nouvelle instance **conv_model4** comme effectué précédemment.\n",
        "- Seules les couches de convolutions sont partagées.\n",
        "- Seulement deux couches denses après les convolutions (ie: fc6 et fc7), dropout entre les deux.\n",
        "- Version simplifiée de la *CORAL loss* : minimisation de la distance entre les dernières couches denses (et/ou maximisation de la corrélation). Utilisez l'une des couches documentées sur la page suivante : https://keras.io/layers/merge/ \n",
        "- Entrainez pendant 50 epochs, avec minibatchs = 128\n"
      ]
    },
    {
      "cell_type": "code",
      "metadata": {
        "id": "qAU4u_QJGh_4",
        "colab_type": "code",
        "colab": {}
      },
      "source": [
        "N_EPOCHS = 50\n",
        "BATCH_SIZE = 128\n",
        "\n",
        "OPTIMIZER = tf.optimizers.Adam(1e-4)"
      ],
      "execution_count": 0,
      "outputs": []
    },
    {
      "cell_type": "markdown",
      "metadata": {
        "id": "vhO-2mGcErz7",
        "colab_type": "text"
      },
      "source": [
        "### Définition du modèle\n",
        "\n",
        "xA et xB sont les données des deux domaines, yA est la sortie du classifieur pour les données de xA dans le domaine source, et *coral* correspond à la métrique (distance ou corrélation) entre un minibatch d'exemples xA et xB, dans les deux domaines. Le modèle optimise les deux loss : *categorical_crossentropy* pour classer les images du domaine source; et *mse* qui minimise (ou maximise) la métrique considérée.\n"
      ]
    },
    {
      "cell_type": "code",
      "metadata": {
        "id": "gCf5TACncWUd",
        "colab_type": "code",
        "colab": {}
      },
      "source": [
        "xA = Input(shape=(x_trainA.shape[1], x_trainA.shape[2], x_trainA.shape[3]))\n",
        "xB = Input(shape=(x_trainA.shape[1], x_trainA.shape[2], x_trainA.shape[3]))\n",
        "\n",
        "model4 = Model([xA, xB], [yA, coral])\n",
        "model4.compile(loss=['categorical_crossentropy', 'mse'],\n",
        "               optimizer=OPTIMIZER,\n",
        "               metrics=['accuracy'])\n",
        "print(model4.summary())\n",
        "\n",
        "# ---\n",
        "# coral distance\n",
        "# ---"
      ],
      "execution_count": 0,
      "outputs": []
    },
    {
      "cell_type": "markdown",
      "metadata": {
        "id": "RKBerCO6mKyQ",
        "colab_type": "text"
      },
      "source": [
        "### Entrainement du modèle d'adaptation par alignement\n",
        "\n",
        "Selon le critère *coral* que vous optimisez, considérez le vecteur objectif ne contenant que des 1 ou que des 0.."
      ]
    },
    {
      "cell_type": "code",
      "metadata": {
        "id": "0R1UYCtvmRK7",
        "colab_type": "code",
        "colab": {}
      },
      "source": [
        "ones = np.ones((len(x_trainA), 1))\n",
        "# zeros = np.zeros((len(x_trainA),1))\n",
        "\n",
        "#todo..."
      ],
      "execution_count": 0,
      "outputs": []
    },
    {
      "cell_type": "markdown",
      "metadata": {
        "id": "VUk9ZasIICOJ",
        "colab_type": "text"
      },
      "source": [
        "Commentaires :"
      ]
    },
    {
      "cell_type": "markdown",
      "metadata": {
        "id": "sP_v8XaKcZJd",
        "colab_type": "text"
      },
      "source": [
        "<h4>Evaluation sur les datasets A et B</h4>"
      ]
    },
    {
      "cell_type": "code",
      "metadata": {
        "id": "cTo7eJ6icecX",
        "colab_type": "code",
        "colab": {}
      },
      "source": [
        "#todo..."
      ],
      "execution_count": 0,
      "outputs": []
    },
    {
      "cell_type": "markdown",
      "metadata": {
        "id": "wOdK5HRQcf-0",
        "colab_type": "text"
      },
      "source": [
        "Commentaires :"
      ]
    },
    {
      "cell_type": "markdown",
      "metadata": {
        "id": "kP6p06aYm6LB",
        "colab_type": "text"
      },
      "source": [
        "## Partie 3 : Adaptation de domaine par contrainte adversarial\n",
        "\n",
        "Cette partie consiste à implémenter un modèle d'adaptation de modèle par contrainte adversarial, inspiré de l'article <a href=\"http://openaccess.thecvf.com/content_cvpr_2017/papers/Tzeng_Adversarial_Discriminative_Domain_CVPR_2017_paper.pdf\">Adversarial Discriminative Domain Adaptation [Tzeng, 2017]</a>.\n",
        "\n",
        "<center><img src=\"http://stephane.ayache.perso.luminy.univ-amu.fr/examdeep/adversadapt17.png\" width=\"80%\" /></center>\n",
        "\n",
        "Dans la figure ci-dessus, les modules en pointillés indiquent une réutilisation de modèles déjà  entrainés, tandis que les modules en lignes pleines désignent des modèles nouvellement entrainés. Pour la phase de *pre-training*, considérez le modèle entrainé sur le dataset A dans la partie 1. \n",
        "\n",
        "La stratégie consiste donc à :\n",
        "- Faire le pré-training du modèle source sur les données source avec un critère de classification. Cette étape a été faite en partie 1 : **conv_model** et **classif_model** sont déjà entrainés.\n",
        "- Ne pas ré-entrainer ces deux modules.\n",
        "- Apprendre from scratch le modèle extracteur de caractéristiques pour les données cible à  l'aide d'un discriminateur adversarial appris à  discriminer entre les données source transformées par le modèle pré-appris et les données du domaine cible transformées par le modèle cible.  \n",
        "- Construire un classifieur en empilant la couche de classification du modèle source sur l'extracteur de caractéristiques sur les données cible.\n",
        "\n"
      ]
    },
    {
      "cell_type": "markdown",
      "metadata": {
        "id": "nGHcH8dz_RxC",
        "colab_type": "text"
      },
      "source": [
        "## Définition du modèle discriminateur\n",
        "Le discriminateur a pour objectif de distinguer les domaines de deux sources de données (A et B) à partir de représentations extraites de couches de convolutions. Ecrivez un modèle simple à deux couches cachées. "
      ]
    },
    {
      "cell_type": "code",
      "metadata": {
        "id": "4ppzY9myEOoZ",
        "colab_type": "code",
        "colab": {
          "base_uri": "https://localhost:8080/",
          "height": 306
        },
        "outputId": "09e957ee-d05a-44e2-cb5b-1249709564f0"
      },
      "source": [
        "classif_model5 = classif_model(conv_model1.output.shape, n_features)\n",
        "classif_model5.compile(loss='categorical_crossentropy',\n",
        "                       optimizer=OPTIMIZER,\n",
        "                       metrics=['accuracy'])\n",
        "\n",
        "print(classif_model5.summary())"
      ],
      "execution_count": 15,
      "outputs": [
        {
          "output_type": "stream",
          "text": [
            "Model: \"sequential_8\"\n",
            "_________________________________________________________________\n",
            "Layer (type)                 Output Shape              Param #   \n",
            "=================================================================\n",
            "dense_12 (Dense)             (None, None, 1024)        4195328   \n",
            "_________________________________________________________________\n",
            "dropout_6 (Dropout)          (None, None, 1024)        0         \n",
            "_________________________________________________________________\n",
            "dense_13 (Dense)             (None, None, 512)         524800    \n",
            "_________________________________________________________________\n",
            "dense_14 (Dense)             (None, None, 4)           2052      \n",
            "=================================================================\n",
            "Total params: 4,722,180\n",
            "Trainable params: 4,722,180\n",
            "Non-trainable params: 0\n",
            "_________________________________________________________________\n",
            "None\n"
          ],
          "name": "stdout"
        }
      ]
    },
    {
      "cell_type": "markdown",
      "metadata": {
        "id": "HWrauoL8ZJ1R",
        "colab_type": "text"
      },
      "source": [
        "### Modèle adversarial\n",
        "\n",
        "Ecrivez ci-dessous le modèle adversarial qui combine le module *Target CNN* et le discriminateur. *Target CNN* consistera en une nouvelle instance **conv_model5** pour extraire des représentations similaires au modèle entrainé en Partie 1 sur les images sources."
      ]
    },
    {
      "cell_type": "code",
      "metadata": {
        "id": "INLzkXpmbEnf",
        "colab_type": "code",
        "colab": {}
      },
      "source": [
        "cross_entropy = tf.keras.losses.BinaryCrossentropy(from_logits=True)\n",
        "\n",
        "def gan_loss(logits, is_real=True):\n",
        "    \"\"\"\n",
        "    Computes standard gan loss between logits and labels\n",
        "    \"\"\"\n",
        "    labels = tf.ones_like(logits) if is_real else tf.zeros_like(logits)\n",
        "    return cross_entropy(labels, logits)\n",
        "\n",
        "class GAN(tf.keras.Model):\n",
        "    \"\"\"\n",
        "    A basic GAN class based on tf.keras.Model\n",
        "    \"\"\"\n",
        "\n",
        "    def __init__(self, **kwargs):\n",
        "        super(GAN, self).__init__()\n",
        "        self.__dict__.update(kwargs)\n",
        "\n",
        "    def generate(self, noise, training):\n",
        "        return self.G(noise, training)\n",
        "\n",
        "    def discriminate(self, x, training):\n",
        "        return self.D(x, training)\n",
        "\n",
        "    # `tf.function` annotation causes the function to be \"compiled\".\n",
        "    @tf.function\n",
        "    def train(self, real_x, real_z):\n",
        "        \"\"\"\n",
        "        Passes through the network, computes loss, compute gradients then update\n",
        "        the network.\n",
        "        \"\"\"\n",
        "        # copied from tp3, just changing the input noise\n",
        "        noise = real_z\n",
        "\n",
        "        with tf.GradientTape() as G_tape, tf.GradientTape() as D_tape:\n",
        "            # run noise through generator\n",
        "            fake_x = self.generate(noise, training=True)\n",
        "\n",
        "            # discriminate real_x and fake_x\n",
        "            real_output = self.discriminate(real_x, training=True)\n",
        "            fake_output = self.discriminate(fake_x, training=True)\n",
        "\n",
        "            # compute real and fake losses for discriminator\n",
        "            D_real_loss = gan_loss(logits=real_output, is_real=True)\n",
        "            D_fake_loss = gan_loss(logits=fake_output, is_real=False)\n",
        "            D_loss = D_fake_loss + D_real_loss\n",
        "\n",
        "            # compute generator loss\n",
        "            G_loss = gan_loss(logits=fake_output, is_real=True)\n",
        "        \n",
        "        # compute gradients\n",
        "        G_gradients = G_tape.gradient(G_loss, self.G.trainable_variables)\n",
        "        D_gradients = D_tape.gradient(D_loss, self.D.trainable_variables)\n",
        "\n",
        "        # update network weights\n",
        "        self.G_optimizer.apply_gradients(\n",
        "            zip(G_gradients, self.G.trainable_variables)\n",
        "        )\n",
        "        self.D_optimizer.apply_gradients(\n",
        "            zip(D_gradients, self.D.trainable_variables)\n",
        "        )\n",
        "\n",
        "        return D_real_loss, D_fake_loss, D_loss, G_loss"
      ],
      "execution_count": 0,
      "outputs": []
    },
    {
      "cell_type": "markdown",
      "metadata": {
        "id": "NhKa_hKDcp9m",
        "colab_type": "text"
      },
      "source": [
        "### Modèle utilisé en phase de test\n",
        "\n",
        "Construisez ci-dessous le modèle final qui combine les modules *Target CNN*  (**conv_model4**) entrainés précédemment et **classif_model** entrainé en Partie 1."
      ]
    },
    {
      "cell_type": "code",
      "metadata": {
        "id": "Po8eUTuZc_JT",
        "colab_type": "code",
        "colab": {}
      },
      "source": [
        "# todo..."
      ],
      "execution_count": 0,
      "outputs": []
    },
    {
      "cell_type": "markdown",
      "metadata": {
        "id": "DZtiQNMiduFd",
        "colab_type": "text"
      },
      "source": [
        "### Entrainement du modèle adversarial\n",
        "\n",
        "Utilisez les fonctions de création de minibatchs suivantes qui randomisent les ensembles d'apprentissage à chaque nouvelle époque.\n"
      ]
    },
    {
      "cell_type": "code",
      "metadata": {
        "id": "BiWTQLVpeVxc",
        "colab_type": "code",
        "colab": {}
      },
      "source": [
        "batch_size = 64\n",
        "nbdata = len(x_trainA)\n",
        "\n",
        "def get_batchA():\n",
        "    global x_trainA, y_trainA\n",
        "    i = 0\n",
        "    while True:\n",
        "        i = i + batch_size\n",
        "        if i+batch_size > nbdata:\n",
        "            i = 0\n",
        "            lidx = list(range(nbdata))\n",
        "            shuffle(lidx)\n",
        "            x_trainA = x_trainA[lidx]\n",
        "            y_trainA = y_trainA[lidx]\n",
        "        yield x_trainA[i:i+batch_size], y_trainA[i:i+batch_size]\n",
        "\n",
        "def get_batchB():\n",
        "    global x_trainB, y_trainB\n",
        "    i = 0\n",
        "    while True:\n",
        "        i = i + batch_size\n",
        "        if i+batch_size > nbdata:\n",
        "            i = 0\n",
        "            lidx = list(range(nbdata))\n",
        "            shuffle(lidx)\n",
        "            x_trainB = x_trainB[lidx]\n",
        "        yield x_trainB[i:i+batch_size]\n",
        "\n",
        "data_genA = get_batchA()\n",
        "data_genB = get_batchB()"
      ],
      "execution_count": 0,
      "outputs": []
    },
    {
      "cell_type": "markdown",
      "metadata": {
        "id": "dKV6F6K9e1QD",
        "colab_type": "text"
      },
      "source": [
        "<h4> Boucle d'apprentissage </h4>"
      ]
    },
    {
      "cell_type": "code",
      "metadata": {
        "id": "J3Nw9iZce6Ly",
        "colab_type": "code",
        "colab": {}
      },
      "source": [
        "ones = np.ones((batch_size,1))\n",
        "zeros = np.zeros((batch_size,1))\n",
        "nb_batchs = int(len(x_trainA)/batch_size)\n",
        "\n",
        "for epoch in range(30):\n",
        "    loss = 0.0\n",
        "    acc = 0.0\n",
        "    for batch in range(nb_batchs):\n",
        "        # get minibatchs\n",
        "        xA, yA = next(data_genA)\n",
        "        xB = next(data_genB)\n",
        "\n",
        "        # A complÃ©ter\n",
        "        \n",
        "        # train discriminator\n",
        "        \n",
        "        # train adversarial model on new minibatch\n",
        "        \n",
        "        # monitoring"
      ],
      "execution_count": 0,
      "outputs": []
    },
    {
      "cell_type": "markdown",
      "metadata": {
        "id": "ruaBJXzFD608",
        "colab_type": "text"
      },
      "source": [
        "Commentaires :"
      ]
    },
    {
      "cell_type": "markdown",
      "metadata": {
        "id": "t8gWmvhPD_p8",
        "colab_type": "text"
      },
      "source": [
        "<h4> Evaluation sur les dataset A et B </h4>"
      ]
    },
    {
      "cell_type": "code",
      "metadata": {
        "id": "tNSAXf6cD1FU",
        "colab_type": "code",
        "colab": {}
      },
      "source": [
        "# todo..."
      ],
      "execution_count": 0,
      "outputs": []
    },
    {
      "cell_type": "markdown",
      "metadata": {
        "id": "2NT_OtnfEWlm",
        "colab_type": "text"
      },
      "source": [
        "Commentaires :"
      ]
    },
    {
      "cell_type": "markdown",
      "metadata": {
        "id": "OSvJq4lFRG0b",
        "colab_type": "text"
      },
      "source": [
        "<hr/>\n",
        "\n",
        "**Rappel, pour l'anonymisation de votre rendu, veuillez suivre les consignes suivantes :**\n",
        "\n",
        "- Choisissez un numéro aléatoire à 6 chiffres, le plus aléatoire possible..\n",
        "- Ecrivez ce numéro sur une feuille, ainsi que votre nom et numéro d'étudiant \n",
        "- Pliez cette feuille en 4, et donnez la à la fin de l'examen au moment d'émarger  \n",
        "- Zippez votre fichier notebook, et nommez l'archive avec votre numéro aléatoire \n",
        "- Envoyez l'archive via la page : http://stephane.ayache.perso.luminy.univ-amu.fr/examdeep/upload/upload.php\n"
      ]
    },
    {
      "cell_type": "code",
      "metadata": {
        "id": "S-GDcdJwUsmQ",
        "colab_type": "code",
        "colab": {}
      },
      "source": [
        ""
      ],
      "execution_count": 0,
      "outputs": []
    }
  ]
}